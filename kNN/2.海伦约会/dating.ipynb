{
 "cells": [
  {
   "metadata": {
    "ExecuteTime": {
     "end_time": "2025-02-26T08:47:22.735706Z",
     "start_time": "2025-02-26T08:47:22.667251Z"
    }
   },
   "cell_type": "code",
   "source": [
    "import numpy as np\n",
    "import matplotlib.pyplot as plt\n",
    "import matplotlib.lines as mlines\n",
    "from pyarrow.dataset import dataset\n",
    "import operator"
   ],
   "id": "68e780b9e613a10b",
   "outputs": [],
   "execution_count": 5
  },
  {
   "cell_type": "code",
   "id": "initial_id",
   "metadata": {
    "collapsed": true,
    "ExecuteTime": {
     "end_time": "2025-02-26T08:47:22.753110Z",
     "start_time": "2025-02-26T08:47:22.743691Z"
    }
   },
   "source": [
    "def file2Matrix(filename):\n",
    "    file = open(filename,'r',encoding='utf-8')\n",
    "    lines = file.readlines()\n",
    "    lines[0] =lines[0].lstrip('\\ufeff')\n",
    "    numberOfLines = len(lines)\n",
    "    # 返回的NumPy矩阵,解析完成的数据:numberOfLines行,3列\n",
    "    returnMat = np.zeros((numberOfLines, 3))\n",
    "    # 返回的分类标签向量\n",
    "    classLabelVector = []\n",
    "    # 行的索引值\n",
    "    index = 0\n",
    "\n",
    "    for line in lines:\n",
    "        # s.strip(rm)，当rm空时,默认删除空白符(包括'\\n','\\r','\\t',' ')\n",
    "        line = line.strip()\n",
    "        # 使用s.split(str=\"\",num=string,cout(str))将字符串根据'\\t'分隔符进行切片。\n",
    "        listFromLine = line.split('\\t')\n",
    "        # 将数据前三列提取出来,存放到returnMat的NumPy矩阵中,也就是特征矩阵\n",
    "        returnMat[index, :] = listFromLine[0:3]\n",
    "        # 根据文本中标记的喜欢的程度进行分类,1代表不喜欢,2代表魅力一般,3代表极具魅力   \n",
    "        # 对于datingTestSet2.txt  最后的标签是已经经过处理的 标签已经改为了1, 2, 3\n",
    "        if listFromLine[-1] == 'didntLike':\n",
    "            classLabelVector.append(1)\n",
    "        elif listFromLine[-1] == 'smallDoses':\n",
    "            classLabelVector.append(2)\n",
    "        elif listFromLine[-1] == 'largeDoses':\n",
    "            classLabelVector.append(3)\n",
    "        index += 1\n",
    "    return returnMat, classLabelVector\n",
    "\n",
    "returnMat , classLabelVector = file2Matrix('datingTestSet.txt')\n",
    "returnMat"
   ],
   "outputs": [
    {
     "data": {
      "text/plain": [
       "array([[4.0920000e+04, 8.3269760e+00, 9.5395200e-01],\n",
       "       [1.4488000e+04, 7.1534690e+00, 1.6739040e+00],\n",
       "       [2.6052000e+04, 1.4418710e+00, 8.0512400e-01],\n",
       "       ...,\n",
       "       [2.6575000e+04, 1.0650102e+01, 8.6662700e-01],\n",
       "       [4.8111000e+04, 9.1345280e+00, 7.2804500e-01],\n",
       "       [4.3757000e+04, 7.8826010e+00, 1.3324460e+00]])"
      ]
     },
     "execution_count": 6,
     "metadata": {},
     "output_type": "execute_result"
    }
   ],
   "execution_count": 6
  },
  {
   "metadata": {
    "ExecuteTime": {
     "end_time": "2025-02-26T08:47:22.835337Z",
     "start_time": "2025-02-26T08:47:22.781270Z"
    }
   },
   "cell_type": "code",
   "source": [
    "from matplotlib.font_manager import FontProperties\n",
    "\n",
    "\n",
    "def showdatas(datingDataMat, datingLabels):\n",
    "\t#设置汉字格式\n",
    "\tfont = FontProperties(fname=r\"c:\\windows\\fonts\\simsunb.ttf\", size=14)  ##需要查看自己的电脑是否会包含该字体\n",
    "\t#将fig画布分隔成1行1列,不共享x轴和y轴,fig画布的大小为(13,8)\n",
    "\t#当nrow=2,nclos=2时,代表fig画布被分为四个区域,axs[0][0]表示第一行第一个区域\n",
    "\tfig, axs = plt.subplots(nrows=2, ncols=2,sharex=False, sharey=False, figsize=(13,8))\n",
    "\n",
    "\tnumberOfLabels = len(datingLabels)\n",
    "\tLabelsColors = []\n",
    "\tfor i in datingLabels:\n",
    "\t\tif i == 1:\n",
    "\t\t\tLabelsColors.append('black')\n",
    "\t\tif i == 2:\n",
    "\t\t\tLabelsColors.append('orange')\n",
    "\t\tif i == 3:\n",
    "\t\t\tLabelsColors.append('red')\n",
    "\t#画出散点图,以datingDataMat矩阵的第一(飞行常客例程)、第二列(玩游戏)数据画散点数据,散点大小为15,透明度为0.5\n",
    "\taxs[0][0].scatter(x=datingDataMat[:,0], y=datingDataMat[:,1], color=LabelsColors,s=15, alpha=.5)\n",
    "\t#设置标题,x轴label,y轴label\n",
    "\taxs0_title_text = axs[0][0].set_title(u'每年获得的飞行常客里程数与玩视频游戏所消耗时间占比',FontProperties=font)\n",
    "\taxs0_xlabel_text = axs[0][0].set_xlabel(u'每年获得的飞行常客里程数',FontProperties=font)\n",
    "\taxs0_ylabel_text = axs[0][0].set_ylabel(u'玩视频游戏所消耗时间占比',FontProperties=font)\n",
    "\tplt.setp(axs0_title_text, size=9, weight='bold', color='red')  \n",
    "\tplt.setp(axs0_xlabel_text, size=7, weight='bold', color='black')  \n",
    "\tplt.setp(axs0_ylabel_text, size=7, weight='bold', color='black') \n",
    "\n",
    "\t#画出散点图,以datingDataMat矩阵的第一(飞行常客例程)、第三列(冰激凌)数据画散点数据,散点大小为15,透明度为0.5\n",
    "\taxs[0][1].scatter(x=datingDataMat[:,0], y=datingDataMat[:,2], color=LabelsColors,s=15, alpha=.5)\n",
    "\t#设置标题,x轴label,y轴label\n",
    "\taxs1_title_text = axs[0][1].set_title(u'每年获得的飞行常客里程数与每周消费的冰激淋公升数',FontProperties=font)\n",
    "\taxs1_xlabel_text = axs[0][1].set_xlabel(u'每年获得的飞行常客里程数',FontProperties=font)\n",
    "\taxs1_ylabel_text = axs[0][1].set_ylabel(u'每周消费的冰激淋公升数',FontProperties=font)\n",
    "\tplt.setp(axs1_title_text, size=9, weight='bold', color='red')  \n",
    "\tplt.setp(axs1_xlabel_text, size=7, weight='bold', color='black')  \n",
    "\tplt.setp(axs1_ylabel_text, size=7, weight='bold', color='black') \n",
    "\n",
    "\t#画出散点图,以datingDataMat矩阵的第二(玩游戏)、第三列(冰激凌)数据画散点数据,散点大小为15,透明度为0.5\n",
    "\taxs[1][0].scatter(x=datingDataMat[:,1], y=datingDataMat[:,2], color=LabelsColors,s=15, alpha=.5)\n",
    "\t#设置标题,x轴label,y轴label\n",
    "\taxs2_title_text = axs[1][0].set_title(u'玩视频游戏所消耗时间占比与每周消费的冰激淋公升数',FontProperties=font)\n",
    "\taxs2_xlabel_text = axs[1][0].set_xlabel(u'玩视频游戏所消耗时间占比',FontProperties=font)\n",
    "\taxs2_ylabel_text = axs[1][0].set_ylabel(u'每周消费的冰激淋公升数',FontProperties=font)\n",
    "\tplt.setp(axs2_title_text, size=9, weight='bold', color='red')  \n",
    "\tplt.setp(axs2_xlabel_text, size=7, weight='bold', color='black')  \n",
    "\tplt.setp(axs2_ylabel_text, size=7, weight='bold', color='black') \n",
    "\t#设置图例\n",
    "\tdidntLike = mlines.Line2D([], [], color='black', marker='.',\n",
    "                      markersize=6, label='didntLike')\n",
    "\tsmallDoses = mlines.Line2D([], [], color='orange', marker='.',\n",
    "\t                  markersize=6, label='smallDoses')\n",
    "\tlargeDoses = mlines.Line2D([], [], color='red', marker='.',\n",
    "\t                  markersize=6, label='largeDoses')\n",
    "\t#添加图例\n",
    "\taxs[0][0].legend(handles=[didntLike,smallDoses,largeDoses])\n",
    "\taxs[0][1].legend(handles=[didntLike,smallDoses,largeDoses])\n",
    "\taxs[1][0].legend(handles=[didntLike,smallDoses,largeDoses])\n",
    "\t#显示图片\n",
    "\tplt.show()"
   ],
   "id": "5434bb5e6d2c12",
   "outputs": [],
   "execution_count": 7
  },
  {
   "metadata": {
    "ExecuteTime": {
     "end_time": "2025-02-26T08:47:22.861227Z",
     "start_time": "2025-02-26T08:47:22.857541Z"
    }
   },
   "cell_type": "code",
   "source": [
    "def Norm(dataSet):\n",
    "    min_vector = dataSet.min(axis=0)\n",
    "    max_vector = dataset.max(axis=0)\n",
    "    range_vector = max_vector-min_vector\n",
    "    normDataSet = np.zeros(np.shape(dataSet))\n",
    "    m = dataSet.shape[0]\n",
    "    normDataSet = (dataSet - np.tile(min_vector,(m, 1)))/np.tile(range_vector,(m, 1))\n",
    "    \n",
    "    return normDataSet,range_vector,min_vector"
   ],
   "id": "4128adabbc2e5f61",
   "outputs": [],
   "execution_count": 8
  },
  {
   "metadata": {
    "ExecuteTime": {
     "end_time": "2025-02-26T09:20:43.101847Z",
     "start_time": "2025-02-26T09:20:43.092847Z"
    }
   },
   "cell_type": "code",
   "source": [
    "def KNN(X,dataSet,labels,k):\n",
    "    m = dataSet.shape[0]\n",
    "    diffMat = np.tile(X, (m, 1)) - dataSet\n",
    "    diffMat = np.power(diffMat, 2)\n",
    "    distances = diffMat.sum(axis=1)\n",
    "    distances = distances ** 0.5\n",
    "    sortedDistIndicies = np.argsort(distances)\n",
    "    classCount = {}\n",
    "    for i in range(k):\n",
    "        label = labels[sortedDistIndicies[i]]\n",
    "        classCount[label] = classCount.get(label, 0) + 1\n",
    "    #python3中用items()替换python2中的iteritems()\n",
    "\t#key=operator.itemgetter(1)根据字典的值进行排序\n",
    "\t#key=operator.itemgetter(0)根据字典的键进行排序\n",
    "\t#reverse降序排序字典\n",
    "    sortedClassCount = sorted(classCount.items(), key=operator.itemgetter(1), reverse=True)\n",
    "    print(sortedClassCount)\n",
    "    return sortedClassCount[0][0]\n",
    "\n",
    "\n",
    "def classifyPerson():\n",
    "    #输出结果\n",
    "\tresultList = ['讨厌','有些喜欢','非常喜欢']\n",
    "\t#三维特征用户输入\n",
    "\tprecentTats = float(input(\"玩视频游戏所耗时间百分比:\"))\n",
    "\tffMiles = float(input(\"每年获得的飞行常客里程数:\"))\n",
    "\ticeCream = float(input(\"每周消费的冰激淋公升数:\"))\n",
    "\t#打开的文件名\n",
    "\tfilename = \"datingTestSet.txt\"\n",
    "\t#打开并处理数据\n",
    "\tdatingDataMat, datingLabels = file2Matrix(filename)\n",
    "\t#训练集归一化\n",
    "\tnormMat, ranges, minVals = Norm(datingDataMat)\n",
    "\t#生成NumPy数组,测试集\n",
    "\tinArr = np.array([ffMiles, precentTats, iceCream])\n",
    "\t#测试集归一化\n",
    "\tnorminArr = (inArr - minVals) / ranges\n",
    "\t#返回分类结果\n",
    "\tclassifierResult = KNN(norminArr, normMat, datingLabels, 3)\n",
    "\t#打印结果\n",
    "\tprint(\"你可能%s这个人\" % (resultList[classifierResult-1]))"
   ],
   "id": "9cd3ad965339a2c0",
   "outputs": [],
   "execution_count": 11
  },
  {
   "metadata": {},
   "cell_type": "code",
   "outputs": [],
   "execution_count": null,
   "source": [
    "def test():\n",
    "    "
   ],
   "id": "6862a66e781fdbf0"
  }
 ],
 "metadata": {
  "kernelspec": {
   "display_name": "Python 3",
   "language": "python",
   "name": "python3"
  },
  "language_info": {
   "codemirror_mode": {
    "name": "ipython",
    "version": 2
   },
   "file_extension": ".py",
   "mimetype": "text/x-python",
   "name": "python",
   "nbconvert_exporter": "python",
   "pygments_lexer": "ipython2",
   "version": "2.7.6"
  }
 },
 "nbformat": 4,
 "nbformat_minor": 5
}
